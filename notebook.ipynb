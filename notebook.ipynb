{
 "cells": [
  {
   "cell_type": "code",
   "execution_count": 35,
   "metadata": {},
   "outputs": [
    {
     "name": "stdout",
     "output_type": "stream",
     "text": [
      "['ORDERBOOK_SYM2_FULL_transacted_orders.csv',\n",
      " 'ORDERBOOK_SYM1_FULL_transacted_orders.csv',\n",
      " 'ORDERBOOK_ETF_FULL_transacted_orders.csv',\n",
      " 'ORDERBOOK_SYM3_FULL_cleaned_orderbook.csv',\n",
      " 'ORDERBOOK_ETF_FULL_cleaned_orderbook.csv',\n",
      " 'ORDERBOOK_SYM3_FULL_transacted_orders.csv',\n",
      " 'ORDERBOOK_SYM1_FULL_cleaned_orderbook.csv',\n",
      " 'ORDERBOOK_SYM1_FULL_processed_orderbook.csv',\n",
      " 'ORDERBOOK_ETF_FULL_processed_orderbook.csv',\n",
      " 'ORDERBOOK_SYM3_FULL_processed_orderbook.csv',\n",
      " 'plots',\n",
      " 'ORDERBOOK_SYM2_FULL_processed_orderbook.csv',\n",
      " 'ORDERBOOK_SYM2_FULL_cleaned_orderbook.csv']\n"
     ]
    }
   ],
   "source": [
    "from pprint import pprint\n",
    "from os import listdir\n",
    "from os.path import join\n",
    "\n",
    "import numpy as np\n",
    "import pandas as pd\n",
    "import seaborn as sns\n",
    "\n",
    "\n",
    "data_path = join(\".\", \"data\")\n",
    "sample_simulation_path = join(data_path, \"realistic_scenario123456\")\n",
    "\n",
    "pprint(listdir(sample_simulation_path))"
   ]
  },
  {
   "cell_type": "code",
   "execution_count": 36,
   "metadata": {
    "pycharm": {
     "name": "#%%\n"
    }
   },
   "outputs": [
    {
     "name": "stdout",
     "output_type": "stream",
     "text": [
      "{'ETF': array([1001.6, 1001.6, 1001.6, ...,  999.5,  999.5,  999.5]), 'SYM1': array([997.685, 997.685, 997.685, ..., 998.905, 998.905, 998.905]), 'SYM2': array([999.97 , 999.97 , 999.97 , ..., 998.055, 998.055, 998.055]), 'SYM3': array([ 999.785,  999.785,  999.785, ..., 1005.25 , 1005.25 , 1005.25 ])}\n"
     ]
    }
   ],
   "source": [
    "import matplotlib.pyplot as plt\n",
    "\n",
    "mid_prices, transacted_volumes = {}, {}\n",
    "for symbol_name in [\"ETF\", \"SYM1\", \"SYM2\", \"SYM3\"]:\n",
    "    orderbook, orderbook_transacted = pd.read_csv(join(sample_simulation_path, f\"ORDERBOOK_{symbol_name}_FULL_processed_orderbook.csv\")).rename(columns={'index': 'time'}), \\\n",
    "                                      pd.read_csv(join(sample_simulation_path, f\"ORDERBOOK_{symbol_name}_FULL_transacted_orders.csv\")).rename(columns={'index': 'time'})\n",
    "    mid_prices[symbol_name], transacted_volumes[symbol_name] = orderbook[\"MID_PRICE\"].values[500:], \\\n",
    "                                                               orderbook_transacted[\"SIZE\"].values[1000:]\n",
    "print(mid_prices)"
   ]
  },
  {
   "cell_type": "code",
   "execution_count": 37,
   "metadata": {},
   "outputs": [
    {
     "ename": "AttributeError",
     "evalue": "'numpy.ndarray' object has no attribute 'iloc'",
     "output_type": "error",
     "traceback": [
      "\u001B[0;31m---------------------------------------------------------------------------\u001B[0m",
      "\u001B[0;31mAttributeError\u001B[0m                            Traceback (most recent call last)",
      "\u001B[0;32m<ipython-input-37-6e47ad746af0>\u001B[0m in \u001B[0;36m<module>\u001B[0;34m\u001B[0m\n\u001B[1;32m      7\u001B[0m     \u001B[0mfig\u001B[0m\u001B[0;34m,\u001B[0m \u001B[0max\u001B[0m \u001B[0;34m=\u001B[0m \u001B[0mplt\u001B[0m\u001B[0;34m.\u001B[0m\u001B[0msubplots\u001B[0m\u001B[0;34m(\u001B[0m\u001B[0;36m2\u001B[0m\u001B[0;34m)\u001B[0m\u001B[0;34m\u001B[0m\u001B[0;34m\u001B[0m\u001B[0m\n\u001B[1;32m      8\u001B[0m     \u001B[0mfig\u001B[0m\u001B[0;34m.\u001B[0m\u001B[0msuptitle\u001B[0m\u001B[0;34m(\u001B[0m\u001B[0;34mf'Plots for symbol {symbol_name}'\u001B[0m\u001B[0;34m)\u001B[0m\u001B[0;34m\u001B[0m\u001B[0;34m\u001B[0m\u001B[0m\n\u001B[0;32m----> 9\u001B[0;31m     mid_price_ax = sns.lineplot(data=mid_prices[symbol_name].iloc[sample_indexes],\n\u001B[0m\u001B[1;32m     10\u001B[0m                                 ax=ax[0])\n\u001B[1;32m     11\u001B[0m     \u001B[0mmid_price_ax\u001B[0m\u001B[0;34m.\u001B[0m\u001B[0mset\u001B[0m\u001B[0;34m(\u001B[0m\u001B[0mxticklabels\u001B[0m\u001B[0;34m=\u001B[0m\u001B[0;34m[\u001B[0m\u001B[0;34m]\u001B[0m\u001B[0;34m,\u001B[0m \u001B[0mxlabel\u001B[0m\u001B[0;34m=\u001B[0m\u001B[0;34m\"Time\"\u001B[0m\u001B[0;34m,\u001B[0m \u001B[0mylabel\u001B[0m\u001B[0;34m=\u001B[0m\u001B[0;34m\"Mid price\"\u001B[0m\u001B[0;34m)\u001B[0m\u001B[0;34m\u001B[0m\u001B[0;34m\u001B[0m\u001B[0m\n",
      "\u001B[0;31mAttributeError\u001B[0m: 'numpy.ndarray' object has no attribute 'iloc'"
     ]
    },
    {
     "data": {
      "text/plain": "<Figure size 432x288 with 2 Axes>",
      "image/png": "[encoded data removed]"
     },
     "metadata": {
      "needs_background": "light"
     },
     "output_type": "display_data"
    }
   ],
   "source": [
    "sample_indexes = np.linspace(start=0, stop=mid_prices[\"ETF\"].shape[0], num=1000,\n",
    "                             endpoint=False, dtype=np.int)\n",
    "sample_indexes_transacted = np.linspace(start=0, stop=transacted_volumes[\"ETF\"].shape[0], num=1000,\n",
    "                             endpoint=False, dtype=np.int)\n",
    "\n",
    "for symbol_name in [\"ETF\", \"SYM1\", \"SYM2\", \"SYM3\"]:\n",
    "    fig, ax = plt.subplots(2)\n",
    "    fig.suptitle(f'Plots for symbol {symbol_name}')\n",
    "    mid_price_ax = sns.lineplot(data=mid_prices[symbol_name].iloc[sample_indexes],\n",
    "                                ax=ax[0])\n",
    "    mid_price_ax.set(xticklabels=[], xlabel=\"Time\", ylabel=\"Mid price\")\n",
    "\n",
    "    size_ax = sns.lineplot(data=transacted_volumes[symbol_name].iloc[sample_indexes_transacted],\n",
    "                             ax=ax[1])\n",
    "    size_ax.set(xticklabels=[], xlabel=\"Time\", ylabel=\"Transacted volume\")\n",
    "plt.tight_layout()"
   ]
  },
  {
   "cell_type": "code",
   "execution_count": null,
   "metadata": {},
   "outputs": [],
   "source": [
    "def PC(mid_prices_1, mid_prices_2):\n",
    "    for\n",
    "    assert isinstance(mid_prices_1, pd.Series) or isinstance(mid_prices_1, np.ndarray) or isinstance(mid_prices_1, list) or isinstance(mid_prices_1, tuple)\n",
    "    print(type(mid_prices_1))\n",
    "    print(mid_prices_1)\n",
    "    print(mid_prices_2)\n",
    "\n",
    "PC(mid_prices[\"SYM1\"], mid_prices_2=mid_prices[\"SYM2\"])\n"
   ]
  }
 ],
 "metadata": {
  "kernelspec": {
   "display_name": "PyCharm (ai4t_project)",
   "language": "python",
   "name": "pycharm-f0b9e5a1"
  },
  "language_info": {
   "codemirror_mode": {
    "name": "ipython",
    "version": 3
   },
   "file_extension": ".py",
   "mimetype": "text/x-python",
   "name": "python",
   "nbconvert_exporter": "python",
   "pygments_lexer": "ipython3",
   "version": "3.7.6"
  }
 },
 "nbformat": 4,
 "nbformat_minor": 1
}