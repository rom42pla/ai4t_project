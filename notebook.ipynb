{
 "cells": [
  {
   "cell_type": "markdown",
   "source": [
    "# Imports"
   ],
   "metadata": {
    "collapsed": false,
    "pycharm": {
     "name": "#%% md\n"
    }
   }
  },
  {
   "cell_type": "code",
   "execution_count": 156,
   "metadata": {},
   "outputs": [],
   "source": [
    "from pprint import pprint\n",
    "from os import listdir\n",
    "from os.path import join, isfile\n",
    "import json\n",
    "\n",
    "import numpy as np\n",
    "from scipy.spatial import distance_matrix\n",
    "import pandas as pd\n",
    "import matplotlib.pyplot as plt\n",
    "from mpl_toolkits.mplot3d import Axes3D\n",
    "import seaborn as sns"
   ]
  },
  {
   "cell_type": "markdown",
   "source": [
    "# Analysis"
   ],
   "metadata": {
    "collapsed": false
   }
  },
  {
   "cell_type": "markdown",
   "source": [
    "## Retrieving paths of each simulation saved"
   ],
   "metadata": {
    "collapsed": false
   }
  },
  {
   "cell_type": "code",
   "source": [
    "data_path = join(\".\", \"data\")\n",
    "simulations_names = [f for f in listdir(data_path)\n",
    "                     if not isfile(f) and f not in [\".gitkeep\", \".gitignore\"]]"
   ],
   "metadata": {
    "collapsed": false,
    "pycharm": {
     "name": "#%%\n"
    }
   },
   "execution_count": 157,
   "outputs": []
  },
  {
   "cell_type": "markdown",
   "source": [
    "## Retrieving causality strength for each symbol in each simulation"
   ],
   "metadata": {
    "collapsed": false
   }
  },
  {
   "cell_type": "code",
   "execution_count": 158,
   "metadata": {
    "pycharm": {
     "name": "#%%\n"
    }
   },
   "outputs": [
    {
     "name": "stdout",
     "output_type": "stream",
     "text": [
      "Simulation ./data/realistic_scenario123456 has no pc.json file\n",
      "Causalities' strengths\n",
      "[           ETF      SYM1      SYM2      SYM3\n",
      "ETF        NaN  0.235376  0.105850  0.077994\n",
      "SYM1  0.235376       NaN -0.050139 -0.002786\n",
      "SYM2  0.105850 -0.050139       NaN  0.032033\n",
      "SYM3  0.077994 -0.002786  0.032033       NaN,\n",
      "            ETF      SYM1      SYM2      SYM3\n",
      "ETF        NaN  0.222841  0.036212  0.045961\n",
      "SYM1  0.222841       NaN -0.029248  0.047354\n",
      "SYM2  0.036212 -0.029248       NaN  0.027855\n",
      "SYM3  0.045961  0.047354  0.027855       NaN,\n",
      "            ETF      SYM1      SYM2      SYM3\n",
      "ETF        NaN  0.243733  0.139276  0.026462\n",
      "SYM1  0.243733       NaN  0.002786  0.023677\n",
      "SYM2  0.139276  0.002786       NaN  0.050139\n",
      "SYM3  0.026462  0.023677  0.050139       NaN,\n",
      "            ETF      SYM1      SYM2      SYM3\n",
      "ETF        NaN  0.247911  0.093315  0.005571\n",
      "SYM1  0.247911       NaN -0.075209 -0.020891\n",
      "SYM2  0.093315 -0.075209       NaN  0.033426\n",
      "SYM3  0.005571 -0.020891  0.033426       NaN,\n",
      "            ETF      SYM1      SYM2      SYM3\n",
      "ETF        NaN  0.252089  0.097493  0.086351\n",
      "SYM1  0.252089       NaN -0.011142 -0.002786\n",
      "SYM2  0.097493 -0.011142       NaN -0.009749\n",
      "SYM3  0.086351 -0.002786 -0.009749       NaN,\n",
      "            ETF      SYM1      SYM2      SYM3\n",
      "ETF        NaN  0.310585  0.168524  0.158774\n",
      "SYM1  0.310585       NaN  0.073816  0.013928\n",
      "SYM2  0.168524  0.073816       NaN -0.016713\n",
      "SYM3  0.158774  0.013928 -0.016713       NaN]\n"
     ]
    }
   ],
   "source": [
    "causalities_strengths = []\n",
    "for simulation_name in simulations_names:\n",
    "    simulation_path = join(data_path, simulation_name)\n",
    "    if \"pc.json\" not in listdir(simulation_path):\n",
    "        print(f\"Simulation {simulation_path} has no pc.json file\")\n",
    "        continue\n",
    "    with open(join(simulation_path, \"pc.json\"), \"r\") as pc_file:\n",
    "        causalities_strengths += [pd.DataFrame.from_dict(json.load(pc_file)).sort_index()]\n",
    "\n",
    "print(f\"Causalities' strengths\")\n",
    "pprint(causalities_strengths)"
   ]
  },
  {
   "cell_type": "markdown",
   "source": [
    "## Stats about causalities"
   ],
   "metadata": {
    "collapsed": false,
    "pycharm": {
     "name": "#%% md\n"
    }
   }
  },
  {
   "cell_type": "code",
   "execution_count": 159,
   "outputs": [
    {
     "name": "stdout",
     "output_type": "stream",
     "text": [
      "\n",
      "Mean\n",
      "           ETF      SYM1      SYM2      SYM3\n",
      "ETF        NaN  0.252089  0.106778  0.066852\n",
      "SYM1  0.252089       NaN -0.014856  0.009749\n",
      "SYM2  0.106778 -0.014856       NaN  0.019499\n",
      "SYM3  0.066852  0.009749  0.019499       NaN\n",
      "\n",
      "Variance\n",
      "           ETF      SYM1      SYM2      SYM3\n",
      "ETF        NaN  0.000774  0.001686  0.002463\n",
      "SYM1  0.000774       NaN  0.002214  0.000480\n",
      "SYM2  0.001686  0.002214       NaN  0.000588\n",
      "SYM3  0.002463  0.000480  0.000588       NaN\n",
      "\n",
      "Standard deviation\n",
      "           ETF      SYM1      SYM2      SYM3\n",
      "ETF        NaN  0.027820  0.041062  0.049627\n",
      "SYM1  0.027820       NaN  0.047050  0.021904\n",
      "SYM2  0.041062  0.047050       NaN  0.024244\n",
      "SYM3  0.049627  0.021904  0.024244       NaN\n"
     ]
    }
   ],
   "source": [
    "symbols_names = list(causalities_strengths[0].columns)\n",
    "causalities_strengths = np.array([df.values.tolist() for df in causalities_strengths])\n",
    "\n",
    "print(f\"\\nMean\")\n",
    "print(pd.DataFrame(data=causalities_strengths.mean(axis=0),\n",
    "                   columns=symbols_names, index=symbols_names))\n",
    "print(f\"\\nVariance\")\n",
    "print(pd.DataFrame(data=causalities_strengths.var(axis=0),\n",
    "                   columns=symbols_names, index=symbols_names))\n",
    "print(f\"\\nStandard deviation\")\n",
    "print(pd.DataFrame(data=causalities_strengths.std(axis=0),\n",
    "                   columns=symbols_names, index=symbols_names))\n",
    "\n"
   ],
   "metadata": {
    "collapsed": false,
    "pycharm": {
     "name": "#%%\n"
    }
   }
  }
 ],
 "metadata": {
  "kernelspec": {
   "display_name": "PyCharm (ai4t_project)",
   "language": "python",
   "name": "pycharm-f0b9e5a1"
  },
  "language_info": {
   "codemirror_mode": {
    "name": "ipython",
    "version": 3
   },
   "file_extension": ".py",
   "mimetype": "text/x-python",
   "name": "python",
   "nbconvert_exporter": "python",
   "pygments_lexer": "ipython3",
   "version": "3.7.6"
  }
 },
 "nbformat": 4,
 "nbformat_minor": 1
}