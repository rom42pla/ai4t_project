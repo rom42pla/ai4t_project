{
 "cells": [
  {
   "cell_type": "code",
   "execution_count": 30,
   "metadata": {},
   "outputs": [],
   "source": [
    "from pprint import pprint\n",
    "from os import listdir\n",
    "from os.path import join, isfile\n",
    "import json\n",
    "\n",
    "import numpy as np\n",
    "from scipy.spatial import distance_matrix\n",
    "import pandas as pd\n",
    "import matplotlib.pyplot as plt\n",
    "from mpl_toolkits.mplot3d import Axes3D\n",
    "import seaborn as sns\n",
    "\n",
    "data_path = join(\".\", \"data\")\n",
    "\n",
    "simulations_names = [f for f in listdir(data_path)\n",
    "                     if not isfile(f) and f not in [\".gitkeep\", \".gitignore\"]]"
   ]
  },
  {
   "cell_type": "code",
   "execution_count": 31,
   "metadata": {
    "pycharm": {
     "name": "#%%\n"
    }
   },
   "outputs": [
    {
     "name": "stdout",
     "output_type": "stream",
     "text": [
      "Simulation ./data/realistic_scenario123456 has no pc.json file\n",
      "Causalities' strengths\n",
      "{'realistic_scenario14571405': {'ETF': {'SYM1': 0.22284122562674094,\n",
      "                                        'SYM2': 0.036211699164345405,\n",
      "                                        'SYM3': 0.04596100278551532},\n",
      "                                'SYM1': {'ETF': 0.22284122562674094,\n",
      "                                         'SYM2': -0.02924791086350975,\n",
      "                                         'SYM3': 0.04735376044568245},\n",
      "                                'SYM2': {'ETF': 0.036211699164345405,\n",
      "                                         'SYM1': -0.02924791086350975,\n",
      "                                         'SYM3': 0.027855153203342618},\n",
      "                                'SYM3': {'ETF': 0.04596100278551532,\n",
      "                                         'SYM1': 0.04735376044568245,\n",
      "                                         'SYM2': 0.027855153203342618}},\n",
      " 'realistic_scenario21087319': {'ETF': {'SYM1': 0.31058495821727017,\n",
      "                                        'SYM2': 0.16852367688022285,\n",
      "                                        'SYM3': 0.15877437325905291},\n",
      "                                'SYM1': {'ETF': 0.31058495821727017,\n",
      "                                         'SYM2': 0.07381615598885793,\n",
      "                                         'SYM3': 0.013927576601671309},\n",
      "                                'SYM2': {'ETF': 0.16852367688022285,\n",
      "                                         'SYM1': 0.07381615598885793,\n",
      "                                         'SYM3': -0.016713091922005572},\n",
      "                                'SYM3': {'ETF': 0.15877437325905291,\n",
      "                                         'SYM1': 0.013927576601671309,\n",
      "                                         'SYM2': -0.016713091922005572}},\n",
      " 'realistic_scenario654321': {'ETF': {'SYM1': 0.23537604456824512,\n",
      "                                      'SYM2': 0.10584958217270195,\n",
      "                                      'SYM3': 0.07799442896935933},\n",
      "                              'SYM1': {'ETF': 0.23537604456824512,\n",
      "                                       'SYM2': -0.05013927576601671,\n",
      "                                       'SYM3': -0.002785515320334262},\n",
      "                              'SYM2': {'ETF': 0.10584958217270195,\n",
      "                                       'SYM1': -0.05013927576601671,\n",
      "                                       'SYM3': 0.03203342618384401},\n",
      "                              'SYM3': {'ETF': 0.07799442896935933,\n",
      "                                       'SYM1': -0.002785515320334262,\n",
      "                                       'SYM2': 0.03203342618384401}}}\n"
     ]
    }
   ],
   "source": [
    "symbols_names = [\"ETF\", \"SYM1\", \"SYM2\", \"SYM3\"]\n",
    "causalities_strengths = {}\n",
    "for simulation_name in simulations_names:\n",
    "    simulation_path = join(data_path, simulation_name)\n",
    "    if \"pc.json\" not in listdir(simulation_path):\n",
    "        print(f\"Simulation {simulation_path} has no pc.json file\")\n",
    "        continue\n",
    "    with open(join(simulation_path, \"pc.json\"), \"r\") as pc_file:\n",
    "        causalities_strengths[simulation_name] = json.load(pc_file)\n",
    "\n",
    "print(f\"Causalities' strengths\")\n",
    "pprint(causalities_strengths)"
   ]
  },
  {
   "cell_type": "code",
   "execution_count": 31,
   "metadata": {},
   "outputs": [],
   "source": []
  },
  {
   "cell_type": "code",
   "execution_count": 31,
   "metadata": {},
   "outputs": [],
   "source": []
  }
 ],
 "metadata": {
  "kernelspec": {
   "display_name": "PyCharm (ai4t_project)",
   "language": "python",
   "name": "pycharm-f0b9e5a1"
  },
  "language_info": {
   "codemirror_mode": {
    "name": "ipython",
    "version": 3
   },
   "file_extension": ".py",
   "mimetype": "text/x-python",
   "name": "python",
   "nbconvert_exporter": "python",
   "pygments_lexer": "ipython3",
   "version": "3.7.6"
  }
 },
 "nbformat": 4,
 "nbformat_minor": 1
}